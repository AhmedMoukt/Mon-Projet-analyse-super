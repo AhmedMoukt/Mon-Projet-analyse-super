{
 "cells": [
  {
   "cell_type": "code",
   "execution_count": 2,
   "id": "45d74c1e",
   "metadata": {},
   "outputs": [],
   "source": [
    "import pandas as pd\n",
    "import numpy as np\n",
    "import seaborn as sns\n",
    "\n",
    "import matplotlib.pyplot as plt"
   ]
  },
  {
   "cell_type": "code",
   "execution_count": 6,
   "id": "b9a43bfa",
   "metadata": {},
   "outputs": [],
   "source": [
    "df=pd.read_csv('supermarket_sales .csv')"
   ]
  },
  {
   "cell_type": "code",
   "execution_count": 7,
   "id": "2303b54a",
   "metadata": {},
   "outputs": [
    {
     "data": {
      "application/vnd.microsoft.datawrangler.viewer.v0+json": {
       "columns": [
        {
         "name": "index",
         "rawType": "int64",
         "type": "integer"
        },
        {
         "name": "Invoice ID",
         "rawType": "object",
         "type": "string"
        },
        {
         "name": "Branch",
         "rawType": "object",
         "type": "string"
        },
        {
         "name": "City",
         "rawType": "object",
         "type": "string"
        },
        {
         "name": "Customer type",
         "rawType": "object",
         "type": "string"
        },
        {
         "name": "Gender",
         "rawType": "object",
         "type": "string"
        },
        {
         "name": "Product line",
         "rawType": "object",
         "type": "string"
        },
        {
         "name": "Unit price",
         "rawType": "float64",
         "type": "float"
        },
        {
         "name": "Quantity",
         "rawType": "int64",
         "type": "integer"
        },
        {
         "name": "Tax 5%",
         "rawType": "float64",
         "type": "float"
        },
        {
         "name": "Total",
         "rawType": "float64",
         "type": "float"
        },
        {
         "name": "Date",
         "rawType": "object",
         "type": "string"
        },
        {
         "name": "Time",
         "rawType": "object",
         "type": "string"
        },
        {
         "name": "Payment",
         "rawType": "object",
         "type": "string"
        },
        {
         "name": "cogs",
         "rawType": "float64",
         "type": "float"
        },
        {
         "name": "gross margin percentage",
         "rawType": "float64",
         "type": "float"
        },
        {
         "name": "gross income",
         "rawType": "float64",
         "type": "float"
        },
        {
         "name": "Rating",
         "rawType": "float64",
         "type": "float"
        }
       ],
       "ref": "ff33ec6b-ae1f-40e7-aa75-0a76da0b4235",
       "rows": [
        [
         "0",
         "750-67-8428",
         "A",
         "Yangon",
         "Member",
         "Female",
         "Health and beauty",
         "74.69",
         "7",
         "26.1415",
         "548.9715",
         "1/5/2019",
         "13:08",
         "Ewallet",
         "522.83",
         "4.761904762",
         "26.1415",
         "9.1"
        ],
        [
         "1",
         "226-31-3081",
         "C",
         "Naypyitaw",
         "Normal",
         "Female",
         "Electronic accessories",
         "15.28",
         "5",
         "3.82",
         "80.22",
         "3/8/2019",
         "10:29",
         "Cash",
         "76.4",
         "4.761904762",
         "3.82",
         "9.6"
        ],
        [
         "2",
         "631-41-3108",
         "A",
         "Yangon",
         "Normal",
         "Male",
         "Home and lifestyle",
         "46.33",
         "7",
         "16.2155",
         "340.5255",
         "3/3/2019",
         "13:23",
         "Credit card",
         "324.31",
         "4.761904762",
         "16.2155",
         "7.4"
        ],
        [
         "3",
         "123-19-1176",
         "A",
         "Yangon",
         "Member",
         "Male",
         "Health and beauty",
         "58.22",
         "8",
         "23.288",
         "489.048",
         "1/27/2019",
         "20:33",
         "Ewallet",
         "465.76",
         "4.761904762",
         "23.288",
         "8.4"
        ],
        [
         "4",
         "373-73-7910",
         "A",
         "Yangon",
         "Normal",
         "Male",
         "Sports and travel",
         "86.31",
         "7",
         "30.2085",
         "634.3785",
         "2/8/2019",
         "10:37",
         "Ewallet",
         "604.17",
         "4.761904762",
         "30.2085",
         "5.3"
        ]
       ],
       "shape": {
        "columns": 17,
        "rows": 5
       }
      },
      "text/html": [
       "<div>\n",
       "<style scoped>\n",
       "    .dataframe tbody tr th:only-of-type {\n",
       "        vertical-align: middle;\n",
       "    }\n",
       "\n",
       "    .dataframe tbody tr th {\n",
       "        vertical-align: top;\n",
       "    }\n",
       "\n",
       "    .dataframe thead th {\n",
       "        text-align: right;\n",
       "    }\n",
       "</style>\n",
       "<table border=\"1\" class=\"dataframe\">\n",
       "  <thead>\n",
       "    <tr style=\"text-align: right;\">\n",
       "      <th></th>\n",
       "      <th>Invoice ID</th>\n",
       "      <th>Branch</th>\n",
       "      <th>City</th>\n",
       "      <th>Customer type</th>\n",
       "      <th>Gender</th>\n",
       "      <th>Product line</th>\n",
       "      <th>Unit price</th>\n",
       "      <th>Quantity</th>\n",
       "      <th>Tax 5%</th>\n",
       "      <th>Total</th>\n",
       "      <th>Date</th>\n",
       "      <th>Time</th>\n",
       "      <th>Payment</th>\n",
       "      <th>cogs</th>\n",
       "      <th>gross margin percentage</th>\n",
       "      <th>gross income</th>\n",
       "      <th>Rating</th>\n",
       "    </tr>\n",
       "  </thead>\n",
       "  <tbody>\n",
       "    <tr>\n",
       "      <th>0</th>\n",
       "      <td>750-67-8428</td>\n",
       "      <td>A</td>\n",
       "      <td>Yangon</td>\n",
       "      <td>Member</td>\n",
       "      <td>Female</td>\n",
       "      <td>Health and beauty</td>\n",
       "      <td>74.69</td>\n",
       "      <td>7</td>\n",
       "      <td>26.1415</td>\n",
       "      <td>548.9715</td>\n",
       "      <td>1/5/2019</td>\n",
       "      <td>13:08</td>\n",
       "      <td>Ewallet</td>\n",
       "      <td>522.83</td>\n",
       "      <td>4.761905</td>\n",
       "      <td>26.1415</td>\n",
       "      <td>9.1</td>\n",
       "    </tr>\n",
       "    <tr>\n",
       "      <th>1</th>\n",
       "      <td>226-31-3081</td>\n",
       "      <td>C</td>\n",
       "      <td>Naypyitaw</td>\n",
       "      <td>Normal</td>\n",
       "      <td>Female</td>\n",
       "      <td>Electronic accessories</td>\n",
       "      <td>15.28</td>\n",
       "      <td>5</td>\n",
       "      <td>3.8200</td>\n",
       "      <td>80.2200</td>\n",
       "      <td>3/8/2019</td>\n",
       "      <td>10:29</td>\n",
       "      <td>Cash</td>\n",
       "      <td>76.40</td>\n",
       "      <td>4.761905</td>\n",
       "      <td>3.8200</td>\n",
       "      <td>9.6</td>\n",
       "    </tr>\n",
       "    <tr>\n",
       "      <th>2</th>\n",
       "      <td>631-41-3108</td>\n",
       "      <td>A</td>\n",
       "      <td>Yangon</td>\n",
       "      <td>Normal</td>\n",
       "      <td>Male</td>\n",
       "      <td>Home and lifestyle</td>\n",
       "      <td>46.33</td>\n",
       "      <td>7</td>\n",
       "      <td>16.2155</td>\n",
       "      <td>340.5255</td>\n",
       "      <td>3/3/2019</td>\n",
       "      <td>13:23</td>\n",
       "      <td>Credit card</td>\n",
       "      <td>324.31</td>\n",
       "      <td>4.761905</td>\n",
       "      <td>16.2155</td>\n",
       "      <td>7.4</td>\n",
       "    </tr>\n",
       "    <tr>\n",
       "      <th>3</th>\n",
       "      <td>123-19-1176</td>\n",
       "      <td>A</td>\n",
       "      <td>Yangon</td>\n",
       "      <td>Member</td>\n",
       "      <td>Male</td>\n",
       "      <td>Health and beauty</td>\n",
       "      <td>58.22</td>\n",
       "      <td>8</td>\n",
       "      <td>23.2880</td>\n",
       "      <td>489.0480</td>\n",
       "      <td>1/27/2019</td>\n",
       "      <td>20:33</td>\n",
       "      <td>Ewallet</td>\n",
       "      <td>465.76</td>\n",
       "      <td>4.761905</td>\n",
       "      <td>23.2880</td>\n",
       "      <td>8.4</td>\n",
       "    </tr>\n",
       "    <tr>\n",
       "      <th>4</th>\n",
       "      <td>373-73-7910</td>\n",
       "      <td>A</td>\n",
       "      <td>Yangon</td>\n",
       "      <td>Normal</td>\n",
       "      <td>Male</td>\n",
       "      <td>Sports and travel</td>\n",
       "      <td>86.31</td>\n",
       "      <td>7</td>\n",
       "      <td>30.2085</td>\n",
       "      <td>634.3785</td>\n",
       "      <td>2/8/2019</td>\n",
       "      <td>10:37</td>\n",
       "      <td>Ewallet</td>\n",
       "      <td>604.17</td>\n",
       "      <td>4.761905</td>\n",
       "      <td>30.2085</td>\n",
       "      <td>5.3</td>\n",
       "    </tr>\n",
       "  </tbody>\n",
       "</table>\n",
       "</div>"
      ],
      "text/plain": [
       "    Invoice ID Branch       City Customer type  Gender  \\\n",
       "0  750-67-8428      A     Yangon        Member  Female   \n",
       "1  226-31-3081      C  Naypyitaw        Normal  Female   \n",
       "2  631-41-3108      A     Yangon        Normal    Male   \n",
       "3  123-19-1176      A     Yangon        Member    Male   \n",
       "4  373-73-7910      A     Yangon        Normal    Male   \n",
       "\n",
       "             Product line  Unit price  Quantity   Tax 5%     Total       Date  \\\n",
       "0       Health and beauty       74.69         7  26.1415  548.9715   1/5/2019   \n",
       "1  Electronic accessories       15.28         5   3.8200   80.2200   3/8/2019   \n",
       "2      Home and lifestyle       46.33         7  16.2155  340.5255   3/3/2019   \n",
       "3       Health and beauty       58.22         8  23.2880  489.0480  1/27/2019   \n",
       "4       Sports and travel       86.31         7  30.2085  634.3785   2/8/2019   \n",
       "\n",
       "    Time      Payment    cogs  gross margin percentage  gross income  Rating  \n",
       "0  13:08      Ewallet  522.83                 4.761905       26.1415     9.1  \n",
       "1  10:29         Cash   76.40                 4.761905        3.8200     9.6  \n",
       "2  13:23  Credit card  324.31                 4.761905       16.2155     7.4  \n",
       "3  20:33      Ewallet  465.76                 4.761905       23.2880     8.4  \n",
       "4  10:37      Ewallet  604.17                 4.761905       30.2085     5.3  "
      ]
     },
     "execution_count": 7,
     "metadata": {},
     "output_type": "execute_result"
    }
   ],
   "source": [
    "df.head()"
   ]
  },
  {
   "cell_type": "code",
   "execution_count": 19,
   "id": "c367af11",
   "metadata": {},
   "outputs": [
    {
     "data": {
      "application/vnd.microsoft.datawrangler.viewer.v0+json": {
       "columns": [
        {
         "name": "index",
         "rawType": "int64",
         "type": "integer"
        },
        {
         "name": "Invoice ID",
         "rawType": "object",
         "type": "string"
        },
        {
         "name": "Branch",
         "rawType": "object",
         "type": "string"
        },
        {
         "name": "City",
         "rawType": "object",
         "type": "string"
        },
        {
         "name": "Customer type",
         "rawType": "object",
         "type": "string"
        },
        {
         "name": "Gender",
         "rawType": "object",
         "type": "string"
        },
        {
         "name": "Product line",
         "rawType": "object",
         "type": "string"
        },
        {
         "name": "Unit price",
         "rawType": "float64",
         "type": "float"
        },
        {
         "name": "Quantity",
         "rawType": "int64",
         "type": "integer"
        },
        {
         "name": "Tax 5%",
         "rawType": "float64",
         "type": "float"
        },
        {
         "name": "Total",
         "rawType": "float64",
         "type": "float"
        },
        {
         "name": "Date",
         "rawType": "datetime64[ns]",
         "type": "datetime"
        },
        {
         "name": "Time",
         "rawType": "object",
         "type": "unknown"
        },
        {
         "name": "Payment",
         "rawType": "object",
         "type": "string"
        },
        {
         "name": "cogs",
         "rawType": "float64",
         "type": "float"
        },
        {
         "name": "gross margin percentage",
         "rawType": "float64",
         "type": "float"
        },
        {
         "name": "gross income",
         "rawType": "float64",
         "type": "float"
        },
        {
         "name": "Rating",
         "rawType": "float64",
         "type": "float"
        },
        {
         "name": "year",
         "rawType": "int32",
         "type": "integer"
        },
        {
         "name": "month",
         "rawType": "int32",
         "type": "integer"
        },
        {
         "name": "day",
         "rawType": "int32",
         "type": "integer"
        }
       ],
       "ref": "e35e9cb0-c9ec-4f08-9b7a-67f228593c64",
       "rows": [
        [
         "995",
         "233-67-5758",
         "C",
         "Naypyitaw",
         "Normal",
         "Male",
         "Health and beauty",
         "40.35",
         "1",
         "2.0175",
         "42.3675",
         "2019-01-29 00:00:00",
         "13:46:00",
         "Ewallet",
         "40.35",
         "4.761904762",
         "2.02",
         "6.2",
         "2019",
         "1",
         "29"
        ],
        [
         "996",
         "303-96-2227",
         "B",
         "Mandalay",
         "Normal",
         "Female",
         "Home and lifestyle",
         "97.38",
         "10",
         "48.69",
         "1022.49",
         "2019-03-02 00:00:00",
         "17:16:00",
         "Ewallet",
         "973.8",
         "4.761904762",
         "48.69",
         "4.4",
         "2019",
         "3",
         "2"
        ],
        [
         "997",
         "727-02-1313",
         "A",
         "Yangon",
         "Member",
         "Male",
         "Food and beverages",
         "31.84",
         "1",
         "1.592",
         "33.432",
         "2019-02-09 00:00:00",
         "13:22:00",
         "Cash",
         "31.84",
         "4.761904762",
         "1.59",
         "7.7",
         "2019",
         "2",
         "9"
        ],
        [
         "998",
         "347-56-2442",
         "A",
         "Yangon",
         "Normal",
         "Male",
         "Home and lifestyle",
         "65.82",
         "1",
         "3.291",
         "69.111",
         "2019-02-22 00:00:00",
         "15:33:00",
         "Cash",
         "65.82",
         "4.761904762",
         "3.29",
         "4.1",
         "2019",
         "2",
         "22"
        ],
        [
         "999",
         "849-09-3807",
         "A",
         "Yangon",
         "Member",
         "Female",
         "Fashion accessories",
         "88.34",
         "7",
         "30.919",
         "649.299",
         "2019-02-18 00:00:00",
         "13:28:00",
         "Cash",
         "618.38",
         "4.761904762",
         "30.92",
         "6.6",
         "2019",
         "2",
         "18"
        ]
       ],
       "shape": {
        "columns": 20,
        "rows": 5
       }
      },
      "text/html": [
       "<div>\n",
       "<style scoped>\n",
       "    .dataframe tbody tr th:only-of-type {\n",
       "        vertical-align: middle;\n",
       "    }\n",
       "\n",
       "    .dataframe tbody tr th {\n",
       "        vertical-align: top;\n",
       "    }\n",
       "\n",
       "    .dataframe thead th {\n",
       "        text-align: right;\n",
       "    }\n",
       "</style>\n",
       "<table border=\"1\" class=\"dataframe\">\n",
       "  <thead>\n",
       "    <tr style=\"text-align: right;\">\n",
       "      <th></th>\n",
       "      <th>Invoice ID</th>\n",
       "      <th>Branch</th>\n",
       "      <th>City</th>\n",
       "      <th>Customer type</th>\n",
       "      <th>Gender</th>\n",
       "      <th>Product line</th>\n",
       "      <th>Unit price</th>\n",
       "      <th>Quantity</th>\n",
       "      <th>Tax 5%</th>\n",
       "      <th>Total</th>\n",
       "      <th>Date</th>\n",
       "      <th>Time</th>\n",
       "      <th>Payment</th>\n",
       "      <th>cogs</th>\n",
       "      <th>gross margin percentage</th>\n",
       "      <th>gross income</th>\n",
       "      <th>Rating</th>\n",
       "      <th>year</th>\n",
       "      <th>month</th>\n",
       "      <th>day</th>\n",
       "    </tr>\n",
       "  </thead>\n",
       "  <tbody>\n",
       "    <tr>\n",
       "      <th>995</th>\n",
       "      <td>233-67-5758</td>\n",
       "      <td>C</td>\n",
       "      <td>Naypyitaw</td>\n",
       "      <td>Normal</td>\n",
       "      <td>Male</td>\n",
       "      <td>Health and beauty</td>\n",
       "      <td>40.35</td>\n",
       "      <td>1</td>\n",
       "      <td>2.0175</td>\n",
       "      <td>42.3675</td>\n",
       "      <td>2019-01-29</td>\n",
       "      <td>13:46:00</td>\n",
       "      <td>Ewallet</td>\n",
       "      <td>40.35</td>\n",
       "      <td>4.761905</td>\n",
       "      <td>2.02</td>\n",
       "      <td>6.2</td>\n",
       "      <td>2019</td>\n",
       "      <td>1</td>\n",
       "      <td>29</td>\n",
       "    </tr>\n",
       "    <tr>\n",
       "      <th>996</th>\n",
       "      <td>303-96-2227</td>\n",
       "      <td>B</td>\n",
       "      <td>Mandalay</td>\n",
       "      <td>Normal</td>\n",
       "      <td>Female</td>\n",
       "      <td>Home and lifestyle</td>\n",
       "      <td>97.38</td>\n",
       "      <td>10</td>\n",
       "      <td>48.6900</td>\n",
       "      <td>1022.4900</td>\n",
       "      <td>2019-03-02</td>\n",
       "      <td>17:16:00</td>\n",
       "      <td>Ewallet</td>\n",
       "      <td>973.80</td>\n",
       "      <td>4.761905</td>\n",
       "      <td>48.69</td>\n",
       "      <td>4.4</td>\n",
       "      <td>2019</td>\n",
       "      <td>3</td>\n",
       "      <td>2</td>\n",
       "    </tr>\n",
       "    <tr>\n",
       "      <th>997</th>\n",
       "      <td>727-02-1313</td>\n",
       "      <td>A</td>\n",
       "      <td>Yangon</td>\n",
       "      <td>Member</td>\n",
       "      <td>Male</td>\n",
       "      <td>Food and beverages</td>\n",
       "      <td>31.84</td>\n",
       "      <td>1</td>\n",
       "      <td>1.5920</td>\n",
       "      <td>33.4320</td>\n",
       "      <td>2019-02-09</td>\n",
       "      <td>13:22:00</td>\n",
       "      <td>Cash</td>\n",
       "      <td>31.84</td>\n",
       "      <td>4.761905</td>\n",
       "      <td>1.59</td>\n",
       "      <td>7.7</td>\n",
       "      <td>2019</td>\n",
       "      <td>2</td>\n",
       "      <td>9</td>\n",
       "    </tr>\n",
       "    <tr>\n",
       "      <th>998</th>\n",
       "      <td>347-56-2442</td>\n",
       "      <td>A</td>\n",
       "      <td>Yangon</td>\n",
       "      <td>Normal</td>\n",
       "      <td>Male</td>\n",
       "      <td>Home and lifestyle</td>\n",
       "      <td>65.82</td>\n",
       "      <td>1</td>\n",
       "      <td>3.2910</td>\n",
       "      <td>69.1110</td>\n",
       "      <td>2019-02-22</td>\n",
       "      <td>15:33:00</td>\n",
       "      <td>Cash</td>\n",
       "      <td>65.82</td>\n",
       "      <td>4.761905</td>\n",
       "      <td>3.29</td>\n",
       "      <td>4.1</td>\n",
       "      <td>2019</td>\n",
       "      <td>2</td>\n",
       "      <td>22</td>\n",
       "    </tr>\n",
       "    <tr>\n",
       "      <th>999</th>\n",
       "      <td>849-09-3807</td>\n",
       "      <td>A</td>\n",
       "      <td>Yangon</td>\n",
       "      <td>Member</td>\n",
       "      <td>Female</td>\n",
       "      <td>Fashion accessories</td>\n",
       "      <td>88.34</td>\n",
       "      <td>7</td>\n",
       "      <td>30.9190</td>\n",
       "      <td>649.2990</td>\n",
       "      <td>2019-02-18</td>\n",
       "      <td>13:28:00</td>\n",
       "      <td>Cash</td>\n",
       "      <td>618.38</td>\n",
       "      <td>4.761905</td>\n",
       "      <td>30.92</td>\n",
       "      <td>6.6</td>\n",
       "      <td>2019</td>\n",
       "      <td>2</td>\n",
       "      <td>18</td>\n",
       "    </tr>\n",
       "  </tbody>\n",
       "</table>\n",
       "</div>"
      ],
      "text/plain": [
       "      Invoice ID Branch       City Customer type  Gender         Product line  \\\n",
       "995  233-67-5758      C  Naypyitaw        Normal    Male    Health and beauty   \n",
       "996  303-96-2227      B   Mandalay        Normal  Female   Home and lifestyle   \n",
       "997  727-02-1313      A     Yangon        Member    Male   Food and beverages   \n",
       "998  347-56-2442      A     Yangon        Normal    Male   Home and lifestyle   \n",
       "999  849-09-3807      A     Yangon        Member  Female  Fashion accessories   \n",
       "\n",
       "     Unit price  Quantity   Tax 5%      Total       Date      Time  Payment  \\\n",
       "995       40.35         1   2.0175    42.3675 2019-01-29  13:46:00  Ewallet   \n",
       "996       97.38        10  48.6900  1022.4900 2019-03-02  17:16:00  Ewallet   \n",
       "997       31.84         1   1.5920    33.4320 2019-02-09  13:22:00     Cash   \n",
       "998       65.82         1   3.2910    69.1110 2019-02-22  15:33:00     Cash   \n",
       "999       88.34         7  30.9190   649.2990 2019-02-18  13:28:00     Cash   \n",
       "\n",
       "       cogs  gross margin percentage  gross income  Rating  year  month  day  \n",
       "995   40.35                 4.761905          2.02     6.2  2019      1   29  \n",
       "996  973.80                 4.761905         48.69     4.4  2019      3    2  \n",
       "997   31.84                 4.761905          1.59     7.7  2019      2    9  \n",
       "998   65.82                 4.761905          3.29     4.1  2019      2   22  \n",
       "999  618.38                 4.761905         30.92     6.6  2019      2   18  "
      ]
     },
     "execution_count": 19,
     "metadata": {},
     "output_type": "execute_result"
    }
   ],
   "source": [
    "df.tail()"
   ]
  },
  {
   "cell_type": "code",
   "execution_count": 13,
   "id": "7a4bda9a",
   "metadata": {},
   "outputs": [
    {
     "name": "stdout",
     "output_type": "stream",
     "text": [
      "<class 'pandas.core.frame.DataFrame'>\n",
      "RangeIndex: 1000 entries, 0 to 999\n",
      "Data columns (total 17 columns):\n",
      " #   Column                   Non-Null Count  Dtype         \n",
      "---  ------                   --------------  -----         \n",
      " 0   Invoice ID               1000 non-null   object        \n",
      " 1   Branch                   1000 non-null   object        \n",
      " 2   City                     1000 non-null   object        \n",
      " 3   Customer type            1000 non-null   object        \n",
      " 4   Gender                   1000 non-null   object        \n",
      " 5   Product line             1000 non-null   object        \n",
      " 6   Unit price               1000 non-null   float64       \n",
      " 7   Quantity                 1000 non-null   int64         \n",
      " 8   Tax 5%                   1000 non-null   float64       \n",
      " 9   Total                    1000 non-null   float64       \n",
      " 10  Date                     1000 non-null   datetime64[ns]\n",
      " 11  Time                     1000 non-null   object        \n",
      " 12  Payment                  1000 non-null   object        \n",
      " 13  cogs                     1000 non-null   float64       \n",
      " 14  gross margin percentage  1000 non-null   float64       \n",
      " 15  gross income             1000 non-null   float64       \n",
      " 16  Rating                   1000 non-null   float64       \n",
      "dtypes: datetime64[ns](1), float64(7), int64(1), object(8)\n",
      "memory usage: 132.9+ KB\n"
     ]
    }
   ],
   "source": [
    "df.info()"
   ]
  },
  {
   "cell_type": "code",
   "execution_count": 10,
   "id": "266789a7",
   "metadata": {},
   "outputs": [],
   "source": [
    "df['Date']=pd.to_datetime(df['Date'])"
   ]
  },
  {
   "cell_type": "code",
   "execution_count": 12,
   "id": "7b481e3a",
   "metadata": {},
   "outputs": [
    {
     "name": "stderr",
     "output_type": "stream",
     "text": [
      "C:\\Users\\ahmed\\AppData\\Local\\Temp\\ipykernel_28560\\3143423362.py:1: UserWarning: Could not infer format, so each element will be parsed individually, falling back to `dateutil`. To ensure parsing is consistent and as-expected, please specify a format.\n",
      "  df['Time']=pd.to_datetime(df['Time']).dt.time\n"
     ]
    }
   ],
   "source": [
    "df['Time']=pd.to_datetime(df['Time']).dt.time"
   ]
  },
  {
   "cell_type": "code",
   "execution_count": 17,
   "id": "d242878f",
   "metadata": {},
   "outputs": [],
   "source": [
    "df['gross income'] = df['gross income'].round(2)"
   ]
  },
  {
   "cell_type": "code",
   "execution_count": 18,
   "id": "eeae4c1d",
   "metadata": {},
   "outputs": [],
   "source": [
    "df['year']=df['Date'].dt.year\n",
    "df['month']=df['Date'].dt.month\n",
    "df['day']=df['Date'].dt.day"
   ]
  },
  {
   "cell_type": "code",
   "execution_count": 20,
   "id": "cc27b1bf",
   "metadata": {},
   "outputs": [
    {
     "data": {
      "application/vnd.microsoft.datawrangler.viewer.v0+json": {
       "columns": [
        {
         "name": "index",
         "rawType": "object",
         "type": "string"
        },
        {
         "name": "0",
         "rawType": "int64",
         "type": "integer"
        }
       ],
       "ref": "15e796af-37e7-44fe-a1d5-85001f2a750d",
       "rows": [
        [
         "Invoice ID",
         "0"
        ],
        [
         "Branch",
         "0"
        ],
        [
         "City",
         "0"
        ],
        [
         "Customer type",
         "0"
        ],
        [
         "Gender",
         "0"
        ],
        [
         "Product line",
         "0"
        ],
        [
         "Unit price",
         "0"
        ],
        [
         "Quantity",
         "0"
        ],
        [
         "Tax 5%",
         "0"
        ],
        [
         "Total",
         "0"
        ],
        [
         "Date",
         "0"
        ],
        [
         "Time",
         "0"
        ],
        [
         "Payment",
         "0"
        ],
        [
         "cogs",
         "0"
        ],
        [
         "gross margin percentage",
         "0"
        ],
        [
         "gross income",
         "0"
        ],
        [
         "Rating",
         "0"
        ],
        [
         "year",
         "0"
        ],
        [
         "month",
         "0"
        ],
        [
         "day",
         "0"
        ]
       ],
       "shape": {
        "columns": 1,
        "rows": 20
       }
      },
      "text/plain": [
       "Invoice ID                 0\n",
       "Branch                     0\n",
       "City                       0\n",
       "Customer type              0\n",
       "Gender                     0\n",
       "Product line               0\n",
       "Unit price                 0\n",
       "Quantity                   0\n",
       "Tax 5%                     0\n",
       "Total                      0\n",
       "Date                       0\n",
       "Time                       0\n",
       "Payment                    0\n",
       "cogs                       0\n",
       "gross margin percentage    0\n",
       "gross income               0\n",
       "Rating                     0\n",
       "year                       0\n",
       "month                      0\n",
       "day                        0\n",
       "dtype: int64"
      ]
     },
     "execution_count": 20,
     "metadata": {},
     "output_type": "execute_result"
    }
   ],
   "source": [
    "df.isnull().sum()"
   ]
  },
  {
   "cell_type": "code",
   "execution_count": 21,
   "id": "bf7dd69f",
   "metadata": {},
   "outputs": [
    {
     "data": {
      "application/vnd.microsoft.datawrangler.viewer.v0+json": {
       "columns": [
        {
         "name": "index",
         "rawType": "int64",
         "type": "integer"
        },
        {
         "name": "Invoice ID",
         "rawType": "object",
         "type": "string"
        },
        {
         "name": "Branch",
         "rawType": "object",
         "type": "string"
        },
        {
         "name": "City",
         "rawType": "object",
         "type": "string"
        },
        {
         "name": "Customer type",
         "rawType": "object",
         "type": "string"
        },
        {
         "name": "Gender",
         "rawType": "object",
         "type": "string"
        },
        {
         "name": "Product line",
         "rawType": "object",
         "type": "string"
        },
        {
         "name": "Unit price",
         "rawType": "float64",
         "type": "float"
        },
        {
         "name": "Quantity",
         "rawType": "int64",
         "type": "integer"
        },
        {
         "name": "Tax 5%",
         "rawType": "float64",
         "type": "float"
        },
        {
         "name": "Total",
         "rawType": "float64",
         "type": "float"
        },
        {
         "name": "Date",
         "rawType": "datetime64[ns]",
         "type": "datetime"
        },
        {
         "name": "Time",
         "rawType": "object",
         "type": "string"
        },
        {
         "name": "Payment",
         "rawType": "object",
         "type": "string"
        },
        {
         "name": "cogs",
         "rawType": "float64",
         "type": "float"
        },
        {
         "name": "gross margin percentage",
         "rawType": "float64",
         "type": "float"
        },
        {
         "name": "gross income",
         "rawType": "float64",
         "type": "float"
        },
        {
         "name": "Rating",
         "rawType": "float64",
         "type": "float"
        },
        {
         "name": "year",
         "rawType": "int32",
         "type": "integer"
        },
        {
         "name": "month",
         "rawType": "int32",
         "type": "integer"
        },
        {
         "name": "day",
         "rawType": "int32",
         "type": "integer"
        }
       ],
       "ref": "9c0b837a-4b9d-4a36-a449-07391d1dcdf8",
       "rows": [],
       "shape": {
        "columns": 20,
        "rows": 0
       }
      },
      "text/html": [
       "<div>\n",
       "<style scoped>\n",
       "    .dataframe tbody tr th:only-of-type {\n",
       "        vertical-align: middle;\n",
       "    }\n",
       "\n",
       "    .dataframe tbody tr th {\n",
       "        vertical-align: top;\n",
       "    }\n",
       "\n",
       "    .dataframe thead th {\n",
       "        text-align: right;\n",
       "    }\n",
       "</style>\n",
       "<table border=\"1\" class=\"dataframe\">\n",
       "  <thead>\n",
       "    <tr style=\"text-align: right;\">\n",
       "      <th></th>\n",
       "      <th>Invoice ID</th>\n",
       "      <th>Branch</th>\n",
       "      <th>City</th>\n",
       "      <th>Customer type</th>\n",
       "      <th>Gender</th>\n",
       "      <th>Product line</th>\n",
       "      <th>Unit price</th>\n",
       "      <th>Quantity</th>\n",
       "      <th>Tax 5%</th>\n",
       "      <th>Total</th>\n",
       "      <th>Date</th>\n",
       "      <th>Time</th>\n",
       "      <th>Payment</th>\n",
       "      <th>cogs</th>\n",
       "      <th>gross margin percentage</th>\n",
       "      <th>gross income</th>\n",
       "      <th>Rating</th>\n",
       "      <th>year</th>\n",
       "      <th>month</th>\n",
       "      <th>day</th>\n",
       "    </tr>\n",
       "  </thead>\n",
       "  <tbody>\n",
       "  </tbody>\n",
       "</table>\n",
       "</div>"
      ],
      "text/plain": [
       "Empty DataFrame\n",
       "Columns: [Invoice ID, Branch, City, Customer type, Gender, Product line, Unit price, Quantity, Tax 5%, Total, Date, Time, Payment, cogs, gross margin percentage, gross income, Rating, year, month, day]\n",
       "Index: []"
      ]
     },
     "execution_count": 21,
     "metadata": {},
     "output_type": "execute_result"
    }
   ],
   "source": [
    "# Afficher les doublons dans le DataFrame\n",
    "df[df.duplicated()]"
   ]
  },
  {
   "cell_type": "code",
   "execution_count": 23,
   "id": "b439bb6e",
   "metadata": {},
   "outputs": [
    {
     "data": {
      "text/plain": [
       "np.int64(0)"
      ]
     },
     "execution_count": 23,
     "metadata": {},
     "output_type": "execute_result"
    }
   ],
   "source": [
    "df.duplicated().sum()"
   ]
  },
  {
   "cell_type": "code",
   "execution_count": 22,
   "id": "21181c23",
   "metadata": {},
   "outputs": [
    {
     "data": {
      "application/vnd.microsoft.datawrangler.viewer.v0+json": {
       "columns": [
        {
         "name": "index",
         "rawType": "object",
         "type": "string"
        },
        {
         "name": "Unit price",
         "rawType": "float64",
         "type": "float"
        },
        {
         "name": "Quantity",
         "rawType": "float64",
         "type": "float"
        },
        {
         "name": "Tax 5%",
         "rawType": "float64",
         "type": "float"
        },
        {
         "name": "Total",
         "rawType": "float64",
         "type": "float"
        },
        {
         "name": "Date",
         "rawType": "object",
         "type": "unknown"
        },
        {
         "name": "cogs",
         "rawType": "float64",
         "type": "float"
        },
        {
         "name": "gross margin percentage",
         "rawType": "float64",
         "type": "float"
        },
        {
         "name": "gross income",
         "rawType": "float64",
         "type": "float"
        },
        {
         "name": "Rating",
         "rawType": "float64",
         "type": "float"
        },
        {
         "name": "year",
         "rawType": "float64",
         "type": "float"
        },
        {
         "name": "month",
         "rawType": "float64",
         "type": "float"
        },
        {
         "name": "day",
         "rawType": "float64",
         "type": "float"
        }
       ],
       "ref": "14ccf380-6d5d-4c34-8584-7ba94942ba1a",
       "rows": [
        [
         "count",
         "1000.0",
         "1000.0",
         "1000.0",
         "1000.0",
         "1000",
         "1000.0",
         "1000.0",
         "1000.0",
         "1000.0",
         "1000.0",
         "1000.0",
         "1000.0"
        ],
        [
         "mean",
         "55.67213",
         "5.51",
         "15.379368999999999",
         "322.966749",
         "2019-02-14 00:05:45.600000",
         "307.58738",
         "4.761904762",
         "15.37951",
         "6.9727",
         "2019.0",
         "1.993",
         "15.256"
        ],
        [
         "min",
         "10.08",
         "1.0",
         "0.5085",
         "10.6785",
         "2019-01-01 00:00:00",
         "10.17",
         "4.761904762",
         "0.51",
         "4.0",
         "2019.0",
         "1.0",
         "1.0"
        ],
        [
         "25%",
         "32.875",
         "3.0",
         "5.924875",
         "124.422375",
         "2019-01-24 00:00:00",
         "118.4975",
         "4.761904762",
         "5.9275",
         "5.5",
         "2019.0",
         "1.0",
         "8.0"
        ],
        [
         "50%",
         "55.230000000000004",
         "5.0",
         "12.088000000000001",
         "253.848",
         "2019-02-13 00:00:00",
         "241.76",
         "4.761904762",
         "12.09",
         "7.0",
         "2019.0",
         "2.0",
         "15.0"
        ],
        [
         "75%",
         "77.935",
         "8.0",
         "22.44525",
         "471.35024999999996",
         "2019-03-08 00:00:00",
         "448.90500000000003",
         "4.761904762",
         "22.445",
         "8.5",
         "2019.0",
         "3.0",
         "23.0"
        ],
        [
         "max",
         "99.96",
         "10.0",
         "49.65",
         "1042.65",
         "2019-03-30 00:00:00",
         "993.0",
         "4.761904762",
         "49.65",
         "10.0",
         "2019.0",
         "3.0",
         "31.0"
        ],
        [
         "std",
         "26.494628347919768",
         "2.923430595455697",
         "11.708825480998659",
         "245.88533510097207",
         null,
         "234.17650961997307",
         "6.131497611557303e-14",
         "11.708842430016338",
         "1.718580294379123",
         "0.0",
         "0.8352536433016272",
         "8.693563253467577"
        ]
       ],
       "shape": {
        "columns": 12,
        "rows": 8
       }
      },
      "text/html": [
       "<div>\n",
       "<style scoped>\n",
       "    .dataframe tbody tr th:only-of-type {\n",
       "        vertical-align: middle;\n",
       "    }\n",
       "\n",
       "    .dataframe tbody tr th {\n",
       "        vertical-align: top;\n",
       "    }\n",
       "\n",
       "    .dataframe thead th {\n",
       "        text-align: right;\n",
       "    }\n",
       "</style>\n",
       "<table border=\"1\" class=\"dataframe\">\n",
       "  <thead>\n",
       "    <tr style=\"text-align: right;\">\n",
       "      <th></th>\n",
       "      <th>Unit price</th>\n",
       "      <th>Quantity</th>\n",
       "      <th>Tax 5%</th>\n",
       "      <th>Total</th>\n",
       "      <th>Date</th>\n",
       "      <th>cogs</th>\n",
       "      <th>gross margin percentage</th>\n",
       "      <th>gross income</th>\n",
       "      <th>Rating</th>\n",
       "      <th>year</th>\n",
       "      <th>month</th>\n",
       "      <th>day</th>\n",
       "    </tr>\n",
       "  </thead>\n",
       "  <tbody>\n",
       "    <tr>\n",
       "      <th>count</th>\n",
       "      <td>1000.000000</td>\n",
       "      <td>1000.000000</td>\n",
       "      <td>1000.000000</td>\n",
       "      <td>1000.000000</td>\n",
       "      <td>1000</td>\n",
       "      <td>1000.00000</td>\n",
       "      <td>1.000000e+03</td>\n",
       "      <td>1000.000000</td>\n",
       "      <td>1000.00000</td>\n",
       "      <td>1000.0</td>\n",
       "      <td>1000.000000</td>\n",
       "      <td>1000.000000</td>\n",
       "    </tr>\n",
       "    <tr>\n",
       "      <th>mean</th>\n",
       "      <td>55.672130</td>\n",
       "      <td>5.510000</td>\n",
       "      <td>15.379369</td>\n",
       "      <td>322.966749</td>\n",
       "      <td>2019-02-14 00:05:45.600000</td>\n",
       "      <td>307.58738</td>\n",
       "      <td>4.761905e+00</td>\n",
       "      <td>15.379510</td>\n",
       "      <td>6.97270</td>\n",
       "      <td>2019.0</td>\n",
       "      <td>1.993000</td>\n",
       "      <td>15.256000</td>\n",
       "    </tr>\n",
       "    <tr>\n",
       "      <th>min</th>\n",
       "      <td>10.080000</td>\n",
       "      <td>1.000000</td>\n",
       "      <td>0.508500</td>\n",
       "      <td>10.678500</td>\n",
       "      <td>2019-01-01 00:00:00</td>\n",
       "      <td>10.17000</td>\n",
       "      <td>4.761905e+00</td>\n",
       "      <td>0.510000</td>\n",
       "      <td>4.00000</td>\n",
       "      <td>2019.0</td>\n",
       "      <td>1.000000</td>\n",
       "      <td>1.000000</td>\n",
       "    </tr>\n",
       "    <tr>\n",
       "      <th>25%</th>\n",
       "      <td>32.875000</td>\n",
       "      <td>3.000000</td>\n",
       "      <td>5.924875</td>\n",
       "      <td>124.422375</td>\n",
       "      <td>2019-01-24 00:00:00</td>\n",
       "      <td>118.49750</td>\n",
       "      <td>4.761905e+00</td>\n",
       "      <td>5.927500</td>\n",
       "      <td>5.50000</td>\n",
       "      <td>2019.0</td>\n",
       "      <td>1.000000</td>\n",
       "      <td>8.000000</td>\n",
       "    </tr>\n",
       "    <tr>\n",
       "      <th>50%</th>\n",
       "      <td>55.230000</td>\n",
       "      <td>5.000000</td>\n",
       "      <td>12.088000</td>\n",
       "      <td>253.848000</td>\n",
       "      <td>2019-02-13 00:00:00</td>\n",
       "      <td>241.76000</td>\n",
       "      <td>4.761905e+00</td>\n",
       "      <td>12.090000</td>\n",
       "      <td>7.00000</td>\n",
       "      <td>2019.0</td>\n",
       "      <td>2.000000</td>\n",
       "      <td>15.000000</td>\n",
       "    </tr>\n",
       "    <tr>\n",
       "      <th>75%</th>\n",
       "      <td>77.935000</td>\n",
       "      <td>8.000000</td>\n",
       "      <td>22.445250</td>\n",
       "      <td>471.350250</td>\n",
       "      <td>2019-03-08 00:00:00</td>\n",
       "      <td>448.90500</td>\n",
       "      <td>4.761905e+00</td>\n",
       "      <td>22.445000</td>\n",
       "      <td>8.50000</td>\n",
       "      <td>2019.0</td>\n",
       "      <td>3.000000</td>\n",
       "      <td>23.000000</td>\n",
       "    </tr>\n",
       "    <tr>\n",
       "      <th>max</th>\n",
       "      <td>99.960000</td>\n",
       "      <td>10.000000</td>\n",
       "      <td>49.650000</td>\n",
       "      <td>1042.650000</td>\n",
       "      <td>2019-03-30 00:00:00</td>\n",
       "      <td>993.00000</td>\n",
       "      <td>4.761905e+00</td>\n",
       "      <td>49.650000</td>\n",
       "      <td>10.00000</td>\n",
       "      <td>2019.0</td>\n",
       "      <td>3.000000</td>\n",
       "      <td>31.000000</td>\n",
       "    </tr>\n",
       "    <tr>\n",
       "      <th>std</th>\n",
       "      <td>26.494628</td>\n",
       "      <td>2.923431</td>\n",
       "      <td>11.708825</td>\n",
       "      <td>245.885335</td>\n",
       "      <td>NaN</td>\n",
       "      <td>234.17651</td>\n",
       "      <td>6.131498e-14</td>\n",
       "      <td>11.708842</td>\n",
       "      <td>1.71858</td>\n",
       "      <td>0.0</td>\n",
       "      <td>0.835254</td>\n",
       "      <td>8.693563</td>\n",
       "    </tr>\n",
       "  </tbody>\n",
       "</table>\n",
       "</div>"
      ],
      "text/plain": [
       "        Unit price     Quantity       Tax 5%        Total  \\\n",
       "count  1000.000000  1000.000000  1000.000000  1000.000000   \n",
       "mean     55.672130     5.510000    15.379369   322.966749   \n",
       "min      10.080000     1.000000     0.508500    10.678500   \n",
       "25%      32.875000     3.000000     5.924875   124.422375   \n",
       "50%      55.230000     5.000000    12.088000   253.848000   \n",
       "75%      77.935000     8.000000    22.445250   471.350250   \n",
       "max      99.960000    10.000000    49.650000  1042.650000   \n",
       "std      26.494628     2.923431    11.708825   245.885335   \n",
       "\n",
       "                             Date        cogs  gross margin percentage  \\\n",
       "count                        1000  1000.00000             1.000000e+03   \n",
       "mean   2019-02-14 00:05:45.600000   307.58738             4.761905e+00   \n",
       "min           2019-01-01 00:00:00    10.17000             4.761905e+00   \n",
       "25%           2019-01-24 00:00:00   118.49750             4.761905e+00   \n",
       "50%           2019-02-13 00:00:00   241.76000             4.761905e+00   \n",
       "75%           2019-03-08 00:00:00   448.90500             4.761905e+00   \n",
       "max           2019-03-30 00:00:00   993.00000             4.761905e+00   \n",
       "std                           NaN   234.17651             6.131498e-14   \n",
       "\n",
       "       gross income      Rating    year        month          day  \n",
       "count   1000.000000  1000.00000  1000.0  1000.000000  1000.000000  \n",
       "mean      15.379510     6.97270  2019.0     1.993000    15.256000  \n",
       "min        0.510000     4.00000  2019.0     1.000000     1.000000  \n",
       "25%        5.927500     5.50000  2019.0     1.000000     8.000000  \n",
       "50%       12.090000     7.00000  2019.0     2.000000    15.000000  \n",
       "75%       22.445000     8.50000  2019.0     3.000000    23.000000  \n",
       "max       49.650000    10.00000  2019.0     3.000000    31.000000  \n",
       "std       11.708842     1.71858     0.0     0.835254     8.693563  "
      ]
     },
     "execution_count": 22,
     "metadata": {},
     "output_type": "execute_result"
    }
   ],
   "source": [
    "df.describe()"
   ]
  },
  {
   "cell_type": "code",
   "execution_count": null,
   "id": "c173d9ce",
   "metadata": {},
   "outputs": [
    {
     "data": {
      "application/vnd.microsoft.datawrangler.viewer.v0+json": {
       "columns": [
        {
         "name": "City",
         "rawType": "object",
         "type": "string"
        },
        {
         "name": "mean",
         "rawType": "float64",
         "type": "float"
        },
        {
         "name": "sum",
         "rawType": "float64",
         "type": "float"
        }
       ],
       "ref": "fe4e90d0-141e-426a-bffd-c5f8263a6519",
       "rows": [
        [
         "Mandalay",
         "319.873",
         "106197.672"
        ],
        [
         "Naypyitaw",
         "337.1",
         "110568.706"
        ],
        [
         "Yangon",
         "312.354",
         "106200.37"
        ]
       ],
       "shape": {
        "columns": 2,
        "rows": 3
       }
      },
      "text/html": [
       "<div>\n",
       "<style scoped>\n",
       "    .dataframe tbody tr th:only-of-type {\n",
       "        vertical-align: middle;\n",
       "    }\n",
       "\n",
       "    .dataframe tbody tr th {\n",
       "        vertical-align: top;\n",
       "    }\n",
       "\n",
       "    .dataframe thead th {\n",
       "        text-align: right;\n",
       "    }\n",
       "</style>\n",
       "<table border=\"1\" class=\"dataframe\">\n",
       "  <thead>\n",
       "    <tr style=\"text-align: right;\">\n",
       "      <th></th>\n",
       "      <th>mean</th>\n",
       "      <th>sum</th>\n",
       "    </tr>\n",
       "    <tr>\n",
       "      <th>City</th>\n",
       "      <th></th>\n",
       "      <th></th>\n",
       "    </tr>\n",
       "  </thead>\n",
       "  <tbody>\n",
       "    <tr>\n",
       "      <th>Mandalay</th>\n",
       "      <td>319.873</td>\n",
       "      <td>106197.672</td>\n",
       "    </tr>\n",
       "    <tr>\n",
       "      <th>Naypyitaw</th>\n",
       "      <td>337.100</td>\n",
       "      <td>110568.706</td>\n",
       "    </tr>\n",
       "    <tr>\n",
       "      <th>Yangon</th>\n",
       "      <td>312.354</td>\n",
       "      <td>106200.370</td>\n",
       "    </tr>\n",
       "  </tbody>\n",
       "</table>\n",
       "</div>"
      ],
      "text/plain": [
       "              mean         sum\n",
       "City                          \n",
       "Mandalay   319.873  106197.672\n",
       "Naypyitaw  337.100  110568.706\n",
       "Yangon     312.354  106200.370"
      ]
     },
     "execution_count": 26,
     "metadata": {},
     "output_type": "execute_result"
    }
   ],
   "source": [
    "df.groupby('City')['Total'].agg(['mean','sum']).round(3)"
   ]
  },
  {
   "cell_type": "code",
   "execution_count": 41,
   "id": "85f3f15d",
   "metadata": {},
   "outputs": [
    {
     "data": {
      "application/vnd.microsoft.datawrangler.viewer.v0+json": {
       "columns": [
        {
         "name": "City",
         "rawType": "object",
         "type": "string"
        },
        {
         "name": "mean",
         "rawType": "float64",
         "type": "float"
        },
        {
         "name": "sum",
         "rawType": "float64",
         "type": "float"
        }
       ],
       "ref": "4cd74319-3ca7-4ed6-86b5-38c78f56b373",
       "rows": [
        [
         "Mandalay",
         "319.8725060240964",
         "106197.672"
        ],
        [
         "Naypyitaw",
         "337.0997149390244",
         "110568.7065"
        ],
        [
         "Yangon",
         "312.35403088235296",
         "106200.3705"
        ]
       ],
       "shape": {
        "columns": 2,
        "rows": 3
       }
      },
      "text/html": [
       "<div>\n",
       "<style scoped>\n",
       "    .dataframe tbody tr th:only-of-type {\n",
       "        vertical-align: middle;\n",
       "    }\n",
       "\n",
       "    .dataframe tbody tr th {\n",
       "        vertical-align: top;\n",
       "    }\n",
       "\n",
       "    .dataframe thead th {\n",
       "        text-align: right;\n",
       "    }\n",
       "</style>\n",
       "<table border=\"1\" class=\"dataframe\">\n",
       "  <thead>\n",
       "    <tr style=\"text-align: right;\">\n",
       "      <th></th>\n",
       "      <th>mean</th>\n",
       "      <th>sum</th>\n",
       "    </tr>\n",
       "    <tr>\n",
       "      <th>City</th>\n",
       "      <th></th>\n",
       "      <th></th>\n",
       "    </tr>\n",
       "  </thead>\n",
       "  <tbody>\n",
       "    <tr>\n",
       "      <th>Mandalay</th>\n",
       "      <td>319.872506</td>\n",
       "      <td>106197.6720</td>\n",
       "    </tr>\n",
       "    <tr>\n",
       "      <th>Naypyitaw</th>\n",
       "      <td>337.099715</td>\n",
       "      <td>110568.7065</td>\n",
       "    </tr>\n",
       "    <tr>\n",
       "      <th>Yangon</th>\n",
       "      <td>312.354031</td>\n",
       "      <td>106200.3705</td>\n",
       "    </tr>\n",
       "  </tbody>\n",
       "</table>\n",
       "</div>"
      ],
      "text/plain": [
       "                 mean          sum\n",
       "City                              \n",
       "Mandalay   319.872506  106197.6720\n",
       "Naypyitaw  337.099715  110568.7065\n",
       "Yangon     312.354031  106200.3705"
      ]
     },
     "execution_count": 41,
     "metadata": {},
     "output_type": "execute_result"
    }
   ],
   "source": [
    "df.groupby('City')['Total'].agg(['mean','sum'])"
   ]
  },
  {
   "cell_type": "code",
   "execution_count": 49,
   "id": "98785280",
   "metadata": {},
   "outputs": [],
   "source": [
    "city_sales=df.groupby('City')['Total'].sum().sort_values(ascending=False)"
   ]
  },
  {
   "cell_type": "markdown",
   "id": "3e55d63c",
   "metadata": {},
   "source": []
  },
  {
   "cell_type": "code",
   "execution_count": 29,
   "id": "5e60fe35",
   "metadata": {},
   "outputs": [
    {
     "data": {
      "application/vnd.microsoft.datawrangler.viewer.v0+json": {
       "columns": [
        {
         "name": "Customer type",
         "rawType": "object",
         "type": "string"
        },
        {
         "name": "mean",
         "rawType": "float64",
         "type": "float"
        },
        {
         "name": "sum",
         "rawType": "float64",
         "type": "float"
        }
       ],
       "ref": "82f51d06-405a-458e-b490-cfeeb1b5d1fa",
       "rows": [
        [
         "Member",
         "327.791",
         "164223.444"
        ],
        [
         "Normal",
         "318.123",
         "158743.305"
        ]
       ],
       "shape": {
        "columns": 2,
        "rows": 2
       }
      },
      "text/html": [
       "<div>\n",
       "<style scoped>\n",
       "    .dataframe tbody tr th:only-of-type {\n",
       "        vertical-align: middle;\n",
       "    }\n",
       "\n",
       "    .dataframe tbody tr th {\n",
       "        vertical-align: top;\n",
       "    }\n",
       "\n",
       "    .dataframe thead th {\n",
       "        text-align: right;\n",
       "    }\n",
       "</style>\n",
       "<table border=\"1\" class=\"dataframe\">\n",
       "  <thead>\n",
       "    <tr style=\"text-align: right;\">\n",
       "      <th></th>\n",
       "      <th>mean</th>\n",
       "      <th>sum</th>\n",
       "    </tr>\n",
       "    <tr>\n",
       "      <th>Customer type</th>\n",
       "      <th></th>\n",
       "      <th></th>\n",
       "    </tr>\n",
       "  </thead>\n",
       "  <tbody>\n",
       "    <tr>\n",
       "      <th>Member</th>\n",
       "      <td>327.791</td>\n",
       "      <td>164223.444</td>\n",
       "    </tr>\n",
       "    <tr>\n",
       "      <th>Normal</th>\n",
       "      <td>318.123</td>\n",
       "      <td>158743.305</td>\n",
       "    </tr>\n",
       "  </tbody>\n",
       "</table>\n",
       "</div>"
      ],
      "text/plain": [
       "                  mean         sum\n",
       "Customer type                     \n",
       "Member         327.791  164223.444\n",
       "Normal         318.123  158743.305"
      ]
     },
     "execution_count": 29,
     "metadata": {},
     "output_type": "execute_result"
    }
   ],
   "source": [
    "df.groupby(\"Customer type\")[\"Total\"].agg(['mean','sum']).round(3)"
   ]
  },
  {
   "cell_type": "code",
   "execution_count": null,
   "id": "65ef9c20",
   "metadata": {},
   "outputs": [],
   "source": []
  },
  {
   "cell_type": "code",
   "execution_count": 30,
   "id": "e2c1b573",
   "metadata": {},
   "outputs": [
    {
     "data": {
      "application/vnd.microsoft.datawrangler.viewer.v0+json": {
       "columns": [
        {
         "name": "Product line",
         "rawType": "object",
         "type": "string"
        },
        {
         "name": "Total",
         "rawType": "float64",
         "type": "float"
        }
       ],
       "ref": "e608f9e6-65a9-4636-ab30-3add9d1cc446",
       "rows": [
        [
         "Food and beverages",
         "56144.844"
        ],
        [
         "Sports and travel",
         "55122.8265"
        ],
        [
         "Electronic accessories",
         "54337.5315"
        ],
        [
         "Fashion accessories",
         "54305.895"
        ],
        [
         "Home and lifestyle",
         "53861.913"
        ],
        [
         "Health and beauty",
         "49193.739"
        ]
       ],
       "shape": {
        "columns": 1,
        "rows": 6
       }
      },
      "text/plain": [
       "Product line\n",
       "Food and beverages        56144.8440\n",
       "Sports and travel         55122.8265\n",
       "Electronic accessories    54337.5315\n",
       "Fashion accessories       54305.8950\n",
       "Home and lifestyle        53861.9130\n",
       "Health and beauty         49193.7390\n",
       "Name: Total, dtype: float64"
      ]
     },
     "execution_count": 30,
     "metadata": {},
     "output_type": "execute_result"
    }
   ],
   "source": [
    "df.groupby(\"Product line\")[\"Total\"].sum().sort_values(ascending=False)"
   ]
  },
  {
   "cell_type": "code",
   "execution_count": 54,
   "id": "f0ec3749",
   "metadata": {},
   "outputs": [],
   "source": [
    "product_sales=df.groupby('Product line')['Total'].sum().sort_values(ascending=False)"
   ]
  },
  {
   "cell_type": "code",
   "execution_count": 31,
   "id": "a943dfc0",
   "metadata": {},
   "outputs": [
    {
     "data": {
      "application/vnd.microsoft.datawrangler.viewer.v0+json": {
       "columns": [
        {
         "name": "month",
         "rawType": "int32",
         "type": "integer"
        },
        {
         "name": "Total",
         "rawType": "float64",
         "type": "float"
        }
       ],
       "ref": "1dfe6b92-63e2-49c9-af30-9d197ff0d476",
       "rows": [
        [
         "1",
         "116291.868"
        ],
        [
         "3",
         "109455.507"
        ],
        [
         "2",
         "97219.374"
        ]
       ],
       "shape": {
        "columns": 1,
        "rows": 3
       }
      },
      "text/plain": [
       "month\n",
       "1    116291.868\n",
       "3    109455.507\n",
       "2     97219.374\n",
       "Name: Total, dtype: float64"
      ]
     },
     "execution_count": 31,
     "metadata": {},
     "output_type": "execute_result"
    }
   ],
   "source": [
    "df.groupby(\"month\")[\"Total\"].sum().sort_values(ascending=False)"
   ]
  },
  {
   "cell_type": "code",
   "execution_count": null,
   "id": "b76544c8",
   "metadata": {},
   "outputs": [
    {
     "data": {
      "image/png": "[encoded data removed]",
      "text/plain": [
       "<Figure size 1200x600 with 2 Axes>"
      ]
     },
     "metadata": {},
     "output_type": "display_data"
    }
   ],
   "source": [
    "# Extraire l'heure à partir de la colonne 'Time'\n",
    "\n",
    "df['hour'] = pd.to_datetime(df['Time'], format='%H:%M:%S').dt.hour\n",
    "\n",
    "# Créer une table de fréquence des ventes par heure et par jour de la semaine\n",
    "df['weekday'] = df['Date'].dt.day_name()\n",
    "hourly_counts = df.groupby(['weekday', 'hour']).size().unstack(fill_value=0)\n",
    "\n",
    "# Réordonner les jours de la semaine\n",
    "ordered_days = ['Monday', 'Tuesday', 'Wednesday', 'Thursday', 'Friday', 'Saturday', 'Sunday']\n",
    "hourly_counts = hourly_counts.reindex(ordered_days)\n",
    "\n",
    "# Afficher la heatmap\n",
    "plt.figure(figsize=(12,6))\n",
    "sns.heatmap(hourly_counts, cmap='YlGnBu', linewidths=.5, annot=True, fmt='d')\n",
    "plt.title('Nombre de ventes par heure et par jour de la semaine')\n",
    "plt.xlabel('Heure')\n",
    "plt.ylabel('Jour de la semaine')\n",
    "plt.show()"
   ]
  },
  {
   "cell_type": "code",
   "execution_count": 33,
   "id": "88f3a41b",
   "metadata": {},
   "outputs": [
    {
     "data": {
      "application/vnd.microsoft.datawrangler.viewer.v0+json": {
       "columns": [
        {
         "name": "index",
         "rawType": "int64",
         "type": "integer"
        },
        {
         "name": "Invoice ID",
         "rawType": "object",
         "type": "string"
        },
        {
         "name": "Branch",
         "rawType": "object",
         "type": "string"
        },
        {
         "name": "City",
         "rawType": "object",
         "type": "string"
        },
        {
         "name": "Customer type",
         "rawType": "object",
         "type": "string"
        },
        {
         "name": "Gender",
         "rawType": "object",
         "type": "string"
        },
        {
         "name": "Product line",
         "rawType": "object",
         "type": "string"
        },
        {
         "name": "Unit price",
         "rawType": "float64",
         "type": "float"
        },
        {
         "name": "Quantity",
         "rawType": "int64",
         "type": "integer"
        },
        {
         "name": "Tax 5%",
         "rawType": "float64",
         "type": "float"
        },
        {
         "name": "Total",
         "rawType": "float64",
         "type": "float"
        },
        {
         "name": "Date",
         "rawType": "datetime64[ns]",
         "type": "datetime"
        },
        {
         "name": "Time",
         "rawType": "object",
         "type": "unknown"
        },
        {
         "name": "Payment",
         "rawType": "object",
         "type": "string"
        },
        {
         "name": "cogs",
         "rawType": "float64",
         "type": "float"
        },
        {
         "name": "gross margin percentage",
         "rawType": "float64",
         "type": "float"
        },
        {
         "name": "gross income",
         "rawType": "float64",
         "type": "float"
        },
        {
         "name": "Rating",
         "rawType": "float64",
         "type": "float"
        },
        {
         "name": "year",
         "rawType": "int32",
         "type": "integer"
        },
        {
         "name": "month",
         "rawType": "int32",
         "type": "integer"
        },
        {
         "name": "day",
         "rawType": "int32",
         "type": "integer"
        },
        {
         "name": "hour",
         "rawType": "int32",
         "type": "integer"
        },
        {
         "name": "weekday",
         "rawType": "object",
         "type": "string"
        }
       ],
       "ref": "122572a8-adce-46c9-bd50-8659116f7dba",
       "rows": [
        [
         "0",
         "750-67-8428",
         "A",
         "Yangon",
         "Member",
         "Female",
         "Health and beauty",
         "74.69",
         "7",
         "26.1415",
         "548.9715",
         "2019-01-05 00:00:00",
         "13:08:00",
         "Ewallet",
         "522.83",
         "4.761904762",
         "26.14",
         "9.1",
         "2019",
         "1",
         "5",
         "13",
         "Saturday"
        ],
        [
         "1",
         "226-31-3081",
         "C",
         "Naypyitaw",
         "Normal",
         "Female",
         "Electronic accessories",
         "15.28",
         "5",
         "3.82",
         "80.22",
         "2019-03-08 00:00:00",
         "10:29:00",
         "Cash",
         "76.4",
         "4.761904762",
         "3.82",
         "9.6",
         "2019",
         "3",
         "8",
         "10",
         "Friday"
        ],
        [
         "2",
         "631-41-3108",
         "A",
         "Yangon",
         "Normal",
         "Male",
         "Home and lifestyle",
         "46.33",
         "7",
         "16.2155",
         "340.5255",
         "2019-03-03 00:00:00",
         "13:23:00",
         "Credit card",
         "324.31",
         "4.761904762",
         "16.22",
         "7.4",
         "2019",
         "3",
         "3",
         "13",
         "Sunday"
        ],
        [
         "3",
         "123-19-1176",
         "A",
         "Yangon",
         "Member",
         "Male",
         "Health and beauty",
         "58.22",
         "8",
         "23.288",
         "489.048",
         "2019-01-27 00:00:00",
         "20:33:00",
         "Ewallet",
         "465.76",
         "4.761904762",
         "23.29",
         "8.4",
         "2019",
         "1",
         "27",
         "20",
         "Sunday"
        ],
        [
         "4",
         "373-73-7910",
         "A",
         "Yangon",
         "Normal",
         "Male",
         "Sports and travel",
         "86.31",
         "7",
         "30.2085",
         "634.3785",
         "2019-02-08 00:00:00",
         "10:37:00",
         "Ewallet",
         "604.17",
         "4.761904762",
         "30.21",
         "5.3",
         "2019",
         "2",
         "8",
         "10",
         "Friday"
        ]
       ],
       "shape": {
        "columns": 22,
        "rows": 5
       }
      },
      "text/html": [
       "<div>\n",
       "<style scoped>\n",
       "    .dataframe tbody tr th:only-of-type {\n",
       "        vertical-align: middle;\n",
       "    }\n",
       "\n",
       "    .dataframe tbody tr th {\n",
       "        vertical-align: top;\n",
       "    }\n",
       "\n",
       "    .dataframe thead th {\n",
       "        text-align: right;\n",
       "    }\n",
       "</style>\n",
       "<table border=\"1\" class=\"dataframe\">\n",
       "  <thead>\n",
       "    <tr style=\"text-align: right;\">\n",
       "      <th></th>\n",
       "      <th>Invoice ID</th>\n",
       "      <th>Branch</th>\n",
       "      <th>City</th>\n",
       "      <th>Customer type</th>\n",
       "      <th>Gender</th>\n",
       "      <th>Product line</th>\n",
       "      <th>Unit price</th>\n",
       "      <th>Quantity</th>\n",
       "      <th>Tax 5%</th>\n",
       "      <th>Total</th>\n",
       "      <th>...</th>\n",
       "      <th>Payment</th>\n",
       "      <th>cogs</th>\n",
       "      <th>gross margin percentage</th>\n",
       "      <th>gross income</th>\n",
       "      <th>Rating</th>\n",
       "      <th>year</th>\n",
       "      <th>month</th>\n",
       "      <th>day</th>\n",
       "      <th>hour</th>\n",
       "      <th>weekday</th>\n",
       "    </tr>\n",
       "  </thead>\n",
       "  <tbody>\n",
       "    <tr>\n",
       "      <th>0</th>\n",
       "      <td>750-67-8428</td>\n",
       "      <td>A</td>\n",
       "      <td>Yangon</td>\n",
       "      <td>Member</td>\n",
       "      <td>Female</td>\n",
       "      <td>Health and beauty</td>\n",
       "      <td>74.69</td>\n",
       "      <td>7</td>\n",
       "      <td>26.1415</td>\n",
       "      <td>548.9715</td>\n",
       "      <td>...</td>\n",
       "      <td>Ewallet</td>\n",
       "      <td>522.83</td>\n",
       "      <td>4.761905</td>\n",
       "      <td>26.14</td>\n",
       "      <td>9.1</td>\n",
       "      <td>2019</td>\n",
       "      <td>1</td>\n",
       "      <td>5</td>\n",
       "      <td>13</td>\n",
       "      <td>Saturday</td>\n",
       "    </tr>\n",
       "    <tr>\n",
       "      <th>1</th>\n",
       "      <td>226-31-3081</td>\n",
       "      <td>C</td>\n",
       "      <td>Naypyitaw</td>\n",
       "      <td>Normal</td>\n",
       "      <td>Female</td>\n",
       "      <td>Electronic accessories</td>\n",
       "      <td>15.28</td>\n",
       "      <td>5</td>\n",
       "      <td>3.8200</td>\n",
       "      <td>80.2200</td>\n",
       "      <td>...</td>\n",
       "      <td>Cash</td>\n",
       "      <td>76.40</td>\n",
       "      <td>4.761905</td>\n",
       "      <td>3.82</td>\n",
       "      <td>9.6</td>\n",
       "      <td>2019</td>\n",
       "      <td>3</td>\n",
       "      <td>8</td>\n",
       "      <td>10</td>\n",
       "      <td>Friday</td>\n",
       "    </tr>\n",
       "    <tr>\n",
       "      <th>2</th>\n",
       "      <td>631-41-3108</td>\n",
       "      <td>A</td>\n",
       "      <td>Yangon</td>\n",
       "      <td>Normal</td>\n",
       "      <td>Male</td>\n",
       "      <td>Home and lifestyle</td>\n",
       "      <td>46.33</td>\n",
       "      <td>7</td>\n",
       "      <td>16.2155</td>\n",
       "      <td>340.5255</td>\n",
       "      <td>...</td>\n",
       "      <td>Credit card</td>\n",
       "      <td>324.31</td>\n",
       "      <td>4.761905</td>\n",
       "      <td>16.22</td>\n",
       "      <td>7.4</td>\n",
       "      <td>2019</td>\n",
       "      <td>3</td>\n",
       "      <td>3</td>\n",
       "      <td>13</td>\n",
       "      <td>Sunday</td>\n",
       "    </tr>\n",
       "    <tr>\n",
       "      <th>3</th>\n",
       "      <td>123-19-1176</td>\n",
       "      <td>A</td>\n",
       "      <td>Yangon</td>\n",
       "      <td>Member</td>\n",
       "      <td>Male</td>\n",
       "      <td>Health and beauty</td>\n",
       "      <td>58.22</td>\n",
       "      <td>8</td>\n",
       "      <td>23.2880</td>\n",
       "      <td>489.0480</td>\n",
       "      <td>...</td>\n",
       "      <td>Ewallet</td>\n",
       "      <td>465.76</td>\n",
       "      <td>4.761905</td>\n",
       "      <td>23.29</td>\n",
       "      <td>8.4</td>\n",
       "      <td>2019</td>\n",
       "      <td>1</td>\n",
       "      <td>27</td>\n",
       "      <td>20</td>\n",
       "      <td>Sunday</td>\n",
       "    </tr>\n",
       "    <tr>\n",
       "      <th>4</th>\n",
       "      <td>373-73-7910</td>\n",
       "      <td>A</td>\n",
       "      <td>Yangon</td>\n",
       "      <td>Normal</td>\n",
       "      <td>Male</td>\n",
       "      <td>Sports and travel</td>\n",
       "      <td>86.31</td>\n",
       "      <td>7</td>\n",
       "      <td>30.2085</td>\n",
       "      <td>634.3785</td>\n",
       "      <td>...</td>\n",
       "      <td>Ewallet</td>\n",
       "      <td>604.17</td>\n",
       "      <td>4.761905</td>\n",
       "      <td>30.21</td>\n",
       "      <td>5.3</td>\n",
       "      <td>2019</td>\n",
       "      <td>2</td>\n",
       "      <td>8</td>\n",
       "      <td>10</td>\n",
       "      <td>Friday</td>\n",
       "    </tr>\n",
       "  </tbody>\n",
       "</table>\n",
       "<p>5 rows × 22 columns</p>\n",
       "</div>"
      ],
      "text/plain": [
       "    Invoice ID Branch       City Customer type  Gender  \\\n",
       "0  750-67-8428      A     Yangon        Member  Female   \n",
       "1  226-31-3081      C  Naypyitaw        Normal  Female   \n",
       "2  631-41-3108      A     Yangon        Normal    Male   \n",
       "3  123-19-1176      A     Yangon        Member    Male   \n",
       "4  373-73-7910      A     Yangon        Normal    Male   \n",
       "\n",
       "             Product line  Unit price  Quantity   Tax 5%     Total  ...  \\\n",
       "0       Health and beauty       74.69         7  26.1415  548.9715  ...   \n",
       "1  Electronic accessories       15.28         5   3.8200   80.2200  ...   \n",
       "2      Home and lifestyle       46.33         7  16.2155  340.5255  ...   \n",
       "3       Health and beauty       58.22         8  23.2880  489.0480  ...   \n",
       "4       Sports and travel       86.31         7  30.2085  634.3785  ...   \n",
       "\n",
       "       Payment    cogs gross margin percentage  gross income  Rating  year  \\\n",
       "0      Ewallet  522.83                4.761905         26.14     9.1  2019   \n",
       "1         Cash   76.40                4.761905          3.82     9.6  2019   \n",
       "2  Credit card  324.31                4.761905         16.22     7.4  2019   \n",
       "3      Ewallet  465.76                4.761905         23.29     8.4  2019   \n",
       "4      Ewallet  604.17                4.761905         30.21     5.3  2019   \n",
       "\n",
       "   month  day  hour   weekday  \n",
       "0      1    5    13  Saturday  \n",
       "1      3    8    10    Friday  \n",
       "2      3    3    13    Sunday  \n",
       "3      1   27    20    Sunday  \n",
       "4      2    8    10    Friday  \n",
       "\n",
       "[5 rows x 22 columns]"
      ]
     },
     "execution_count": 33,
     "metadata": {},
     "output_type": "execute_result"
    }
   ],
   "source": [
    "df.head()"
   ]
  },
  {
   "cell_type": "code",
   "execution_count": null,
   "id": "3a68e8da",
   "metadata": {},
   "outputs": [
    {
     "data": {
      "text/plain": [
       "np.float64(322966.749)"
      ]
     },
     "execution_count": 34,
     "metadata": {},
     "output_type": "execute_result"
    }
   ],
   "source": [
    "df['Total'].sum()."
   ]
  },
  {
   "cell_type": "markdown",
   "id": "27f88d1c",
   "metadata": {},
   "source": [
    "# 5. KPIs"
   ]
  },
  {
   "cell_type": "code",
   "execution_count": 36,
   "id": "e7b18cd5",
   "metadata": {},
   "outputs": [
    {
     "name": "stdout",
     "output_type": "stream",
     "text": [
      "Total Revenue: $322966.75\n"
     ]
    }
   ],
   "source": [
    "total_revenue = df[\"Total\"].sum()\n",
    "\n",
    "\n",
    "print(f\"Total Revenue: ${total_revenue:.2f}\")\n",
    "\n",
    "\n"
   ]
  },
  {
   "cell_type": "code",
   "execution_count": 37,
   "id": "a194f0c8",
   "metadata": {},
   "outputs": [
    {
     "name": "stdout",
     "output_type": "stream",
     "text": [
      "Number of Transactions: 1000\n"
     ]
    }
   ],
   "source": [
    "num_transactions = df[\"Invoice ID\"].nunique()\n",
    "print(f\"Number of Transactions: {num_transactions}\")"
   ]
  },
  {
   "cell_type": "code",
   "execution_count": 38,
   "id": "118083a1",
   "metadata": {},
   "outputs": [
    {
     "name": "stdout",
     "output_type": "stream",
     "text": [
      "Average Basket Size: $322.97\n"
     ]
    }
   ],
   "source": [
    "avg_basket = total_revenue / num_transactions\n",
    "print(f\"Average Basket Size: ${avg_basket:.2f}\")"
   ]
  },
  {
   "cell_type": "code",
   "execution_count": 39,
   "id": "34561396",
   "metadata": {},
   "outputs": [
    {
     "name": "stdout",
     "output_type": "stream",
     "text": [
      "Gross Income: $15379.51\n"
     ]
    }
   ],
   "source": [
    "gross_income = df[\"gross income\"].sum()\n",
    "print(f\"Gross Income: ${gross_income:.2f}\")"
   ]
  },
  {
   "cell_type": "markdown",
   "id": "5b4dabb3",
   "metadata": {},
   "source": [
    "# CA par ville"
   ]
  },
  {
   "cell_type": "code",
   "execution_count": 52,
   "id": "054b84d0",
   "metadata": {},
   "outputs": [
    {
     "name": "stderr",
     "output_type": "stream",
     "text": [
      "C:\\Users\\ahmed\\AppData\\Local\\Temp\\ipykernel_28560\\1190601619.py:2: FutureWarning: \n",
      "\n",
      "Passing `palette` without assigning `hue` is deprecated and will be removed in v0.14.0. Assign the `x` variable to `hue` and set `legend=False` for the same effect.\n",
      "\n",
      "  sns.barplot( x=city_sales.index, y=city_sales.values,palette='viridis')\n"
     ]
    },
    {
     "data": {
      "image/png": "[encoded data removed]",
      "text/plain": [
       "<Figure size 600x400 with 1 Axes>"
      ]
     },
     "metadata": {},
     "output_type": "display_data"
    }
   ],
   "source": [
    "plt.figure(figsize=(6,4))\n",
    "sns.barplot( x=city_sales.index, y=city_sales.values,palette='viridis')\n",
    "plt.title('Total Sales by City')\n",
    "plt.show()"
   ]
  },
  {
   "cell_type": "markdown",
   "id": "a632d5ed",
   "metadata": {},
   "source": [
    "# CA par ligne de produit"
   ]
  },
  {
   "cell_type": "code",
   "execution_count": 55,
   "id": "d2a41f9b",
   "metadata": {},
   "outputs": [
    {
     "data": {
      "image/png": "[encoded data removed]",
      "text/plain": [
       "<Figure size 1000x500 with 1 Axes>"
      ]
     },
     "metadata": {},
     "output_type": "display_data"
    }
   ],
   "source": [
    "plt.figure(figsize=(10,5))\n",
    "sns.barplot(x=product_sales.index, y=product_sales.values)\n",
    "plt.title(\"Chiffre d'affaires par ligne de produit\")\n",
    "plt.xticks(rotation=45)\n",
    "plt.show()\n"
   ]
  },
  {
   "cell_type": "markdown",
   "id": "a4f3f537",
   "metadata": {},
   "source": [
    "# Evolution des ventes par date"
   ]
  },
  {
   "cell_type": "code",
   "execution_count": 56,
   "id": "82a4f09c",
   "metadata": {},
   "outputs": [
    {
     "data": {
      "image/png": "[encoded data removed]",
      "text/plain": [
       "<Figure size 1200x500 with 1 Axes>"
      ]
     },
     "metadata": {},
     "output_type": "display_data"
    }
   ],
   "source": [
    "daily_sales = df.groupby(\"Date\")[\"Total\"].sum()\n",
    "plt.figure(figsize=(12,5))\n",
    "daily_sales.plot(kind=\"line\", marker=\"o\")\n",
    "plt.title(\"Evolution journalière des ventes\")\n",
    "plt.xlabel(\"Date\")\n",
    "plt.ylabel(\"CA\")\n",
    "plt.show()"
   ]
  }
 ],
 "metadata": {
  "kernelspec": {
   "display_name": "python_course",
   "language": "python",
   "name": "python3"
  },
  "language_info": {
   "codemirror_mode": {
    "name": "ipython",
    "version": 3
   },
   "file_extension": ".py",
   "mimetype": "text/x-python",
   "name": "python",
   "nbconvert_exporter": "python",
   "pygments_lexer": "ipython3",
   "version": "3.12.9"
  }
 },
 "nbformat": 4,
 "nbformat_minor": 5
}
